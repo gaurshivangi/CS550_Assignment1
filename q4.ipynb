import pandas as pd
from sklearn.preprocessing import MinMaxScaler

# Loading data from csv file
data = pd.read_csv('WineQT.csv')

# Converting the quality attributes as asked in question

data['quality'] = data['quality'].apply(lambda x: 1 if x > 6 else 0)

# Separating features and quality
features = data.drop('quality', axis=1)
quality = data['quality']

# Min-max scaling
scaler = MinMaxScaler()
scaledFeatures = scaler.fit_transform(features)

# Reassembling the data into features and quality
scaledData = pd.DataFrame(scaledFeatures, columns=features.columns)
scaledData['quality'] = quality

# Saving the output data into file
scaledData.to_csv('solution_WineQuality.csv', index=False)
