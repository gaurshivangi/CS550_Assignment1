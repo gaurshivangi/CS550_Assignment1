{
  "nbformat": 4,
  "nbformat_minor": 0,
  "metadata": {
    "colab": {
      "provenance": []
    },
    "kernelspec": {
      "name": "python3",
      "display_name": "Python 3"
    },
    "language_info": {
      "name": "python"
    }
  },
  "cells": [
    {
      "cell_type": "code",
      "execution_count": 2,
      "metadata": {
        "id": "Zi6cRJynZMBi"
      },
      "outputs": [],
      "source": [
        "import pandas as pd\n",
        "from sklearn.preprocessing import MinMaxScaler\n",
        "\n",
        "# Loading data from csv file\n",
        "data = pd.read_csv('/content/WineQT.csv')\n",
        "\n",
        "# Converting the quality attributes as asked in question\n",
        "\n",
        "data['quality'] = data['quality'].apply(lambda x: 1 if x > 6 else 0)\n",
        "\n",
        "# Separating features and quality\n",
        "features = data.drop('quality', axis=1)\n",
        "quality = data['quality']\n",
        "\n",
        "# Min-max scaling\n",
        "scaler = MinMaxScaler()\n",
        "scaledFeatures = scaler.fit_transform(features)\n",
        "\n",
        "# Reassembling the data into features and quality\n",
        "scaledData = pd.DataFrame(scaledFeatures, columns=features.columns)\n",
        "scaledData['quality'] = quality\n",
        "\n",
        "# Saving the output data into file\n",
        "scaledData.to_csv('/content/solution_WineQuality.csv', index=False)"
      ]
    }
  ]
}
